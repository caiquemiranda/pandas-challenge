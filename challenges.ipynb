{
 "cells": [
  {
   "cell_type": "markdown",
   "metadata": {},
   "source": [
    "- Problema: Dado um DataFrame `df` com as colunas 'Nome', 'Idade' e 'Salário', crie uma função que retorne uma nova DataFrame contendo apenas as pessoas com idade superior a 30 anos e um salário acima de 50.000."
   ]
  },
  {
   "cell_type": "code",
   "execution_count": 1,
   "metadata": {},
   "outputs": [],
   "source": [
    "import pandas as pd"
   ]
  },
  {
   "cell_type": "code",
   "execution_count": 2,
   "metadata": {},
   "outputs": [],
   "source": [
    "def filtro_idade_salario(df):\n",
    "    resultado = df[(df['Idade'] > 30) & (df['Salário'] > 50000)]\n",
    "    return resultado"
   ]
  },
  {
   "cell_type": "code",
   "execution_count": 4,
   "metadata": {},
   "outputs": [
    {
     "name": "stdout",
     "output_type": "stream",
     "text": [
      "     Nome  Idade  Salário\n",
      "2  Carlos     40    75000\n",
      "7   Maria     39    60000\n"
     ]
    }
   ],
   "source": [
    "df = pd.DataFrame({'Nome': ['Alice', 'Alan', 'Carlos', 'Marcos', 'Bob', 'Charlie', 'David', 'Maria', 'Vanessa'],\n",
    "                   'Idade': [25, 35, 40, 28, 31, 20, 18, 39, 26],\n",
    "                   'Salário': [60_000, 45_000, 75_000, 43_000, 27_000, 29_000, 34_000, 60_000, 90_000]})\n",
    "\n",
    "resultado = filtro_idade_salario(df)\n",
    "print(resultado)"
   ]
  },
  {
   "cell_type": "code",
   "execution_count": null,
   "metadata": {},
   "outputs": [],
   "source": []
  }
 ],
 "metadata": {
  "kernelspec": {
   "display_name": "Python 3",
   "language": "python",
   "name": "python3"
  },
  "language_info": {
   "codemirror_mode": {
    "name": "ipython",
    "version": 3
   },
   "file_extension": ".py",
   "mimetype": "text/x-python",
   "name": "python",
   "nbconvert_exporter": "python",
   "pygments_lexer": "ipython3",
   "version": "3.10.5"
  },
  "orig_nbformat": 4
 },
 "nbformat": 4,
 "nbformat_minor": 2
}
